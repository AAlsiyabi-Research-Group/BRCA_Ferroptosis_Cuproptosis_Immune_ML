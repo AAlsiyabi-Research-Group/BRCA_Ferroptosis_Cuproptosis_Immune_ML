{
 "cells": [
  {
   "cell_type": "code",
   "execution_count": 1,
   "id": "a1cccfec-ac62-4edc-a7a8-32e06ad0c246",
   "metadata": {},
   "outputs": [],
   "source": [
    "import pandas as pd\n",
    "import numpy as np\n",
    "from sklearn.model_selection import train_test_split, StratifiedKFold\n",
    "from sklearn.preprocessing import StandardScaler, LabelEncoder\n",
    "from imblearn.over_sampling import SMOTE\n",
    "from sklearn.metrics import (accuracy_score, confusion_matrix, roc_curve, auc)\n",
    "import matplotlib.pyplot as plt\n",
    "import seaborn as sns\n",
    "import autosklearn.classification\n",
    "import joblib"
   ]
  },
  {
   "cell_type": "code",
   "execution_count": 2,
   "id": "4bc56481-bf3e-4df1-b8b8-b619b7b57ea9",
   "metadata": {},
   "outputs": [],
   "source": [
    "import autosklearn.regression\n",
    "import autosklearn.classification\n",
    "import autosklearn.classification as classifier\n",
    "from autosklearn.classification import AutoSklearnClassifier\n",
    "from autosklearn.metrics import (accuracy,\n",
    "                                 f1,\n",
    "                                 roc_auc,\n",
    "                                 precision,\n",
    "                                 average_precision,\n",
    "                                 recall,\n",
    "                                 log_loss,\n",
    "                                 r2,\n",
    "                                 mean_squared_error,\n",
    "                                 mean_absolute_error,\n",
    "                                 )\n",
    "import autosklearn.regression\n",
    "from sklearn.utils.fixes import _joblib_parallel_args\n",
    "from sklearn.model_selection import train_test_split, StratifiedKFold"
   ]
  },
  {
   "cell_type": "code",
   "execution_count": 1,
   "id": "776f1070-aa48-4aec-810a-f19a064b5a69",
   "metadata": {},
   "outputs": [],
   "source": [
    "# === Load expression data ===\n",
    "expr = pd.read_csv(\"BRCA_VST_Normalized_Matrix.csv\", index_col=0)\n",
    "meta = pd.read_csv(\"BRCA_Metadata_Final.csv\", index_col=0)\n",
    "genes_df = pd.read_excel(\"Common_Genes_BRCA.xlsx\", header=None)\n",
    "selected_genes = genes_df.iloc[:, 0].dropna().tolist()\n",
    "\n",
    "# === Filter matrix ===\n",
    "expr = expr.loc[expr.index.str.upper().isin([g.upper() for g in selected_genes])]\n",
    "expr.index = expr.index.str.upper()\n",
    "expr = expr.loc[[g.upper() for g in selected_genes]]  # preserve order\n",
    "X = expr.T\n",
    "\n",
    "# === Labels ===\n",
    "meta['Group'] = meta['sample_type'].replace({\n",
    "    \"Solid Tissue Normal\": \"Normal\",\n",
    "    \"Primary Tumor\": \"Tumor\"\n",
    "})\n",
    "y = meta.loc[X.index, 'Group'].values"
   ]
  },
  {
   "cell_type": "code",
   "execution_count": 2,
   "id": "0dc77916-b2e2-40b0-8e9a-23a5a3c8410a",
   "metadata": {},
   "outputs": [],
   "source": [
    "# === Encode & scale ===\n",
    "scaler = StandardScaler()\n",
    "X_scaled = scaler.fit_transform(X)\n",
    "le = LabelEncoder()\n",
    "y_encoded = le.fit_transform(y)  # Normal=0, Tumor=1"
   ]
  },
  {
   "cell_type": "code",
   "execution_count": 3,
   "id": "32847915-f938-4c2b-9b18-272cf87f18f2",
   "metadata": {},
   "outputs": [],
   "source": [
    "# === Train/test split ===\n",
    "X_train, X_test, y_train, y_test = train_test_split(\n",
    "    X_scaled, y_encoded, test_size=0.2, random_state=42, stratify=y_encoded\n",
    ")"
   ]
  },
  {
   "cell_type": "code",
   "execution_count": 4,
   "id": "0adce721-05c3-4a76-8c33-e08bb82abded",
   "metadata": {},
   "outputs": [],
   "source": [
    "# === Apply SMOTE on training data ===\n",
    "smote = SMOTE(random_state=42)\n",
    "X_train_resampled, y_train_resampled = smote.fit_resample(X_train, y_train)"
   ]
  },
  {
   "cell_type": "code",
   "execution_count": 14,
   "id": "a179a177-c8ba-4fa0-8eb9-32b0e693e7ff",
   "metadata": {},
   "outputs": [],
   "source": [
    "# === AutoSklearn ===\n",
    "skf = StratifiedKFold(n_splits=3)\n",
    "clf = autosklearn.classification.AutoSklearnClassifier(\n",
    "    time_left_for_this_task=18000,\n",
    "    memory_limit=2048,\n",
    "    resampling_strategy=skf,\n",
    "    ensemble_kwargs={'ensemble_size': 3},\n",
    "    metric=autosklearn.metrics.roc_auc\n",
    ")"
   ]
  },
  {
   "cell_type": "code",
   "execution_count": null,
   "id": "b252db18-ac82-4530-bd1e-53ff32e5a939",
   "metadata": {},
   "outputs": [],
   "source": [
    "print(X_train.shape)\n",
    "print(X_test.shape)\n",
    "print(y_train.shape)\n",
    "print(y_test.shape)"
   ]
  },
  {
   "cell_type": "code",
   "execution_count": 15,
   "id": "520ede4b-2dee-4dcb-9cc6-285ed6909263",
   "metadata": {},
   "outputs": [
    {
     "name": "stdout",
     "output_type": "stream",
     "text": [
      "[ERROR] [2025-07-25 17:33:12,227:Client-AutoML(1):e8468cba-695b-11f0-8f27-8c859067870a] (' Dummy prediction failed with run state StatusType.CRASHED and additional output: {\\'error\\': \\'Result queue is empty\\', \\'exit_status\\': \"<class \\'pynisher.limit_function_call.AnythingException\\'>\", \\'subprocess_stdout\\': \\'\\', \\'subprocess_stderr\\': \\'Process pynisher function call:\\\\nTraceback (most recent call last):\\\\n  File \"/opt/anaconda3/envs/Autosklearn/lib/python3.8/multiprocessing/process.py\", line 315, in _bootstrap\\\\n    self.run()\\\\n  File \"/opt/anaconda3/envs/Autosklearn/lib/python3.8/multiprocessing/process.py\", line 108, in run\\\\n    self._target(*self._args, **self._kwargs)\\\\n  File \"/opt/anaconda3/envs/Autosklearn/lib/python3.8/site-packages/pynisher/limit_function_call.py\", line 108, in subprocess_func\\\\n    resource.setrlimit(resource.RLIMIT_AS, (mem_in_b, mem_in_b))\\\\nValueError: current limit exceeds maximum limit\\\\n\\', \\'exitcode\\': 1, \\'configuration_origin\\': \\'DUMMY\\'}.',)\n",
      "[ERROR] [2025-07-25 17:33:12,227:Client-AutoML(1):e8468cba-695b-11f0-8f27-8c859067870a] (' Dummy prediction failed with run state StatusType.CRASHED and additional output: {\\'error\\': \\'Result queue is empty\\', \\'exit_status\\': \"<class \\'pynisher.limit_function_call.AnythingException\\'>\", \\'subprocess_stdout\\': \\'\\', \\'subprocess_stderr\\': \\'Process pynisher function call:\\\\nTraceback (most recent call last):\\\\n  File \"/opt/anaconda3/envs/Autosklearn/lib/python3.8/multiprocessing/process.py\", line 315, in _bootstrap\\\\n    self.run()\\\\n  File \"/opt/anaconda3/envs/Autosklearn/lib/python3.8/multiprocessing/process.py\", line 108, in run\\\\n    self._target(*self._args, **self._kwargs)\\\\n  File \"/opt/anaconda3/envs/Autosklearn/lib/python3.8/site-packages/pynisher/limit_function_call.py\", line 108, in subprocess_func\\\\n    resource.setrlimit(resource.RLIMIT_AS, (mem_in_b, mem_in_b))\\\\nValueError: current limit exceeds maximum limit\\\\n\\', \\'exitcode\\': 1, \\'configuration_origin\\': \\'DUMMY\\'}.',)\n",
      "Traceback (most recent call last):\n",
      "  File \"/opt/anaconda3/envs/Autosklearn/lib/python3.8/site-packages/autosklearn/automl.py\", line 765, in fit\n",
      "    self._do_dummy_prediction()\n",
      "  File \"/opt/anaconda3/envs/Autosklearn/lib/python3.8/site-packages/autosklearn/automl.py\", line 489, in _do_dummy_prediction\n",
      "    raise ValueError(msg)\n",
      "ValueError: (' Dummy prediction failed with run state StatusType.CRASHED and additional output: {\\'error\\': \\'Result queue is empty\\', \\'exit_status\\': \"<class \\'pynisher.limit_function_call.AnythingException\\'>\", \\'subprocess_stdout\\': \\'\\', \\'subprocess_stderr\\': \\'Process pynisher function call:\\\\nTraceback (most recent call last):\\\\n  File \"/opt/anaconda3/envs/Autosklearn/lib/python3.8/multiprocessing/process.py\", line 315, in _bootstrap\\\\n    self.run()\\\\n  File \"/opt/anaconda3/envs/Autosklearn/lib/python3.8/multiprocessing/process.py\", line 108, in run\\\\n    self._target(*self._args, **self._kwargs)\\\\n  File \"/opt/anaconda3/envs/Autosklearn/lib/python3.8/site-packages/pynisher/limit_function_call.py\", line 108, in subprocess_func\\\\n    resource.setrlimit(resource.RLIMIT_AS, (mem_in_b, mem_in_b))\\\\nValueError: current limit exceeds maximum limit\\\\n\\', \\'exitcode\\': 1, \\'configuration_origin\\': \\'DUMMY\\'}.',)\n"
     ]
    },
    {
     "ename": "ValueError",
     "evalue": "(' Dummy prediction failed with run state StatusType.CRASHED and additional output: {\\'error\\': \\'Result queue is empty\\', \\'exit_status\\': \"<class \\'pynisher.limit_function_call.AnythingException\\'>\", \\'subprocess_stdout\\': \\'\\', \\'subprocess_stderr\\': \\'Process pynisher function call:\\\\nTraceback (most recent call last):\\\\n  File \"/opt/anaconda3/envs/Autosklearn/lib/python3.8/multiprocessing/process.py\", line 315, in _bootstrap\\\\n    self.run()\\\\n  File \"/opt/anaconda3/envs/Autosklearn/lib/python3.8/multiprocessing/process.py\", line 108, in run\\\\n    self._target(*self._args, **self._kwargs)\\\\n  File \"/opt/anaconda3/envs/Autosklearn/lib/python3.8/site-packages/pynisher/limit_function_call.py\", line 108, in subprocess_func\\\\n    resource.setrlimit(resource.RLIMIT_AS, (mem_in_b, mem_in_b))\\\\nValueError: current limit exceeds maximum limit\\\\n\\', \\'exitcode\\': 1, \\'configuration_origin\\': \\'DUMMY\\'}.',)",
     "output_type": "error",
     "traceback": [
      "\u001b[0;31m---------------------------------------------------------------------------\u001b[0m",
      "\u001b[0;31mValueError\u001b[0m                                Traceback (most recent call last)",
      "Cell \u001b[0;32mIn[15], line 1\u001b[0m\n\u001b[0;32m----> 1\u001b[0m \u001b[43mclf\u001b[49m\u001b[38;5;241;43m.\u001b[39;49m\u001b[43mfit\u001b[49m\u001b[43m(\u001b[49m\u001b[43mX_train_resampled\u001b[49m\u001b[43m,\u001b[49m\u001b[43m \u001b[49m\u001b[43my_train_resampled\u001b[49m\u001b[43m,\u001b[49m\u001b[43m \u001b[49m\u001b[43mX_test\u001b[49m\u001b[38;5;241;43m=\u001b[39;49m\u001b[43mX_test\u001b[49m\u001b[43m,\u001b[49m\u001b[43m \u001b[49m\u001b[43my_test\u001b[49m\u001b[38;5;241;43m=\u001b[39;49m\u001b[43my_test\u001b[49m\u001b[43m)\u001b[49m\n",
      "File \u001b[0;32m/opt/anaconda3/envs/Autosklearn/lib/python3.8/site-packages/autosklearn/estimators.py:1448\u001b[0m, in \u001b[0;36mAutoSklearnClassifier.fit\u001b[0;34m(self, X, y, X_test, y_test, feat_type, dataset_name)\u001b[0m\n\u001b[1;32m   1445\u001b[0m \u001b[38;5;66;03m# remember target type for using in predict_proba later.\u001b[39;00m\n\u001b[1;32m   1446\u001b[0m \u001b[38;5;28mself\u001b[39m\u001b[38;5;241m.\u001b[39mtarget_type \u001b[38;5;241m=\u001b[39m target_type\n\u001b[0;32m-> 1448\u001b[0m \u001b[38;5;28;43msuper\u001b[39;49m\u001b[43m(\u001b[49m\u001b[43m)\u001b[49m\u001b[38;5;241;43m.\u001b[39;49m\u001b[43mfit\u001b[49m\u001b[43m(\u001b[49m\n\u001b[1;32m   1449\u001b[0m \u001b[43m    \u001b[49m\u001b[43mX\u001b[49m\u001b[38;5;241;43m=\u001b[39;49m\u001b[43mX\u001b[49m\u001b[43m,\u001b[49m\n\u001b[1;32m   1450\u001b[0m \u001b[43m    \u001b[49m\u001b[43my\u001b[49m\u001b[38;5;241;43m=\u001b[39;49m\u001b[43my\u001b[49m\u001b[43m,\u001b[49m\n\u001b[1;32m   1451\u001b[0m \u001b[43m    \u001b[49m\u001b[43mX_test\u001b[49m\u001b[38;5;241;43m=\u001b[39;49m\u001b[43mX_test\u001b[49m\u001b[43m,\u001b[49m\n\u001b[1;32m   1452\u001b[0m \u001b[43m    \u001b[49m\u001b[43my_test\u001b[49m\u001b[38;5;241;43m=\u001b[39;49m\u001b[43my_test\u001b[49m\u001b[43m,\u001b[49m\n\u001b[1;32m   1453\u001b[0m \u001b[43m    \u001b[49m\u001b[43mfeat_type\u001b[49m\u001b[38;5;241;43m=\u001b[39;49m\u001b[43mfeat_type\u001b[49m\u001b[43m,\u001b[49m\n\u001b[1;32m   1454\u001b[0m \u001b[43m    \u001b[49m\u001b[43mdataset_name\u001b[49m\u001b[38;5;241;43m=\u001b[39;49m\u001b[43mdataset_name\u001b[49m\u001b[43m,\u001b[49m\n\u001b[1;32m   1455\u001b[0m \u001b[43m\u001b[49m\u001b[43m)\u001b[49m\n\u001b[1;32m   1457\u001b[0m \u001b[38;5;66;03m# After fit, a classifier is expected to define classes_\u001b[39;00m\n\u001b[1;32m   1458\u001b[0m \u001b[38;5;66;03m# A list of class labels known to the classifier, mapping each label\u001b[39;00m\n\u001b[1;32m   1459\u001b[0m \u001b[38;5;66;03m# to a numerical index used in the model representation our output.\u001b[39;00m\n\u001b[1;32m   1460\u001b[0m \u001b[38;5;28mself\u001b[39m\u001b[38;5;241m.\u001b[39mclasses_ \u001b[38;5;241m=\u001b[39m \u001b[38;5;28mself\u001b[39m\u001b[38;5;241m.\u001b[39mautoml_\u001b[38;5;241m.\u001b[39mInputValidator\u001b[38;5;241m.\u001b[39mtarget_validator\u001b[38;5;241m.\u001b[39mclasses_\n",
      "File \u001b[0;32m/opt/anaconda3/envs/Autosklearn/lib/python3.8/site-packages/autosklearn/estimators.py:540\u001b[0m, in \u001b[0;36mAutoSklearnEstimator.fit\u001b[0;34m(self, **kwargs)\u001b[0m\n\u001b[1;32m    538\u001b[0m \u001b[38;5;28;01mif\u001b[39;00m \u001b[38;5;28mself\u001b[39m\u001b[38;5;241m.\u001b[39mautoml_ \u001b[38;5;129;01mis\u001b[39;00m \u001b[38;5;28;01mNone\u001b[39;00m:\n\u001b[1;32m    539\u001b[0m     \u001b[38;5;28mself\u001b[39m\u001b[38;5;241m.\u001b[39mautoml_ \u001b[38;5;241m=\u001b[39m \u001b[38;5;28mself\u001b[39m\u001b[38;5;241m.\u001b[39mbuild_automl()\n\u001b[0;32m--> 540\u001b[0m \u001b[38;5;28;43mself\u001b[39;49m\u001b[38;5;241;43m.\u001b[39;49m\u001b[43mautoml_\u001b[49m\u001b[38;5;241;43m.\u001b[39;49m\u001b[43mfit\u001b[49m\u001b[43m(\u001b[49m\u001b[43mload_models\u001b[49m\u001b[38;5;241;43m=\u001b[39;49m\u001b[38;5;28;43mself\u001b[39;49m\u001b[38;5;241;43m.\u001b[39;49m\u001b[43mload_models\u001b[49m\u001b[43m,\u001b[49m\u001b[43m \u001b[49m\u001b[38;5;241;43m*\u001b[39;49m\u001b[38;5;241;43m*\u001b[39;49m\u001b[43mkwargs\u001b[49m\u001b[43m)\u001b[49m\n\u001b[1;32m    542\u001b[0m \u001b[38;5;28;01mreturn\u001b[39;00m \u001b[38;5;28mself\u001b[39m\n",
      "File \u001b[0;32m/opt/anaconda3/envs/Autosklearn/lib/python3.8/site-packages/autosklearn/automl.py:2304\u001b[0m, in \u001b[0;36mAutoMLClassifier.fit\u001b[0;34m(self, X, y, X_test, y_test, feat_type, dataset_name, only_return_configuration_space, load_models)\u001b[0m\n\u001b[1;32m   2293\u001b[0m \u001b[38;5;28;01mdef\u001b[39;00m \u001b[38;5;21mfit\u001b[39m(\n\u001b[1;32m   2294\u001b[0m     \u001b[38;5;28mself\u001b[39m,\n\u001b[1;32m   2295\u001b[0m     X: SUPPORTED_FEAT_TYPES,\n\u001b[0;32m   (...)\u001b[0m\n\u001b[1;32m   2302\u001b[0m     load_models: \u001b[38;5;28mbool\u001b[39m \u001b[38;5;241m=\u001b[39m \u001b[38;5;28;01mTrue\u001b[39;00m,\n\u001b[1;32m   2303\u001b[0m ) \u001b[38;5;241m-\u001b[39m\u001b[38;5;241m>\u001b[39m AutoMLClassifier:\n\u001b[0;32m-> 2304\u001b[0m     \u001b[38;5;28;01mreturn\u001b[39;00m \u001b[38;5;28;43msuper\u001b[39;49m\u001b[43m(\u001b[49m\u001b[43m)\u001b[49m\u001b[38;5;241;43m.\u001b[39;49m\u001b[43mfit\u001b[49m\u001b[43m(\u001b[49m\n\u001b[1;32m   2305\u001b[0m \u001b[43m        \u001b[49m\u001b[43mX\u001b[49m\u001b[43m,\u001b[49m\n\u001b[1;32m   2306\u001b[0m \u001b[43m        \u001b[49m\u001b[43my\u001b[49m\u001b[43m,\u001b[49m\n\u001b[1;32m   2307\u001b[0m \u001b[43m        \u001b[49m\u001b[43mX_test\u001b[49m\u001b[38;5;241;43m=\u001b[39;49m\u001b[43mX_test\u001b[49m\u001b[43m,\u001b[49m\n\u001b[1;32m   2308\u001b[0m \u001b[43m        \u001b[49m\u001b[43my_test\u001b[49m\u001b[38;5;241;43m=\u001b[39;49m\u001b[43my_test\u001b[49m\u001b[43m,\u001b[49m\n\u001b[1;32m   2309\u001b[0m \u001b[43m        \u001b[49m\u001b[43mfeat_type\u001b[49m\u001b[38;5;241;43m=\u001b[39;49m\u001b[43mfeat_type\u001b[49m\u001b[43m,\u001b[49m\n\u001b[1;32m   2310\u001b[0m \u001b[43m        \u001b[49m\u001b[43mdataset_name\u001b[49m\u001b[38;5;241;43m=\u001b[39;49m\u001b[43mdataset_name\u001b[49m\u001b[43m,\u001b[49m\n\u001b[1;32m   2311\u001b[0m \u001b[43m        \u001b[49m\u001b[43monly_return_configuration_space\u001b[49m\u001b[38;5;241;43m=\u001b[39;49m\u001b[43monly_return_configuration_space\u001b[49m\u001b[43m,\u001b[49m\n\u001b[1;32m   2312\u001b[0m \u001b[43m        \u001b[49m\u001b[43mload_models\u001b[49m\u001b[38;5;241;43m=\u001b[39;49m\u001b[43mload_models\u001b[49m\u001b[43m,\u001b[49m\n\u001b[1;32m   2313\u001b[0m \u001b[43m        \u001b[49m\u001b[43mis_classification\u001b[49m\u001b[38;5;241;43m=\u001b[39;49m\u001b[38;5;28;43;01mTrue\u001b[39;49;00m\u001b[43m,\u001b[49m\n\u001b[1;32m   2314\u001b[0m \u001b[43m    \u001b[49m\u001b[43m)\u001b[49m\n",
      "File \u001b[0;32m/opt/anaconda3/envs/Autosklearn/lib/python3.8/site-packages/autosklearn/automl.py:962\u001b[0m, in \u001b[0;36mAutoML.fit\u001b[0;34m(self, X, y, task, X_test, y_test, feat_type, dataset_name, only_return_configuration_space, load_models, is_classification)\u001b[0m\n\u001b[1;32m    959\u001b[0m \u001b[38;5;28;01mexcept\u001b[39;00m \u001b[38;5;167;01mException\u001b[39;00m \u001b[38;5;28;01mas\u001b[39;00m e:\n\u001b[1;32m    960\u001b[0m     \u001b[38;5;66;03m# This will be called before the _fit_cleanup\u001b[39;00m\n\u001b[1;32m    961\u001b[0m     \u001b[38;5;28mself\u001b[39m\u001b[38;5;241m.\u001b[39m_logger\u001b[38;5;241m.\u001b[39mexception(e)\n\u001b[0;32m--> 962\u001b[0m     \u001b[38;5;28;01mraise\u001b[39;00m e\n\u001b[1;32m    963\u001b[0m \u001b[38;5;28;01mfinally\u001b[39;00m:\n\u001b[1;32m    964\u001b[0m     \u001b[38;5;28mself\u001b[39m\u001b[38;5;241m.\u001b[39m_fit_cleanup()\n",
      "File \u001b[0;32m/opt/anaconda3/envs/Autosklearn/lib/python3.8/site-packages/autosklearn/automl.py:765\u001b[0m, in \u001b[0;36mAutoML.fit\u001b[0;34m(self, X, y, task, X_test, y_test, feat_type, dataset_name, only_return_configuration_space, load_models, is_classification)\u001b[0m\n\u001b[1;32m    763\u001b[0m \u001b[38;5;28;01mwith\u001b[39;00m \u001b[38;5;28mself\u001b[39m\u001b[38;5;241m.\u001b[39m_stopwatch\u001b[38;5;241m.\u001b[39mtime(\u001b[38;5;124m\"\u001b[39m\u001b[38;5;124mDummy predictions\u001b[39m\u001b[38;5;124m\"\u001b[39m):\n\u001b[1;32m    764\u001b[0m     \u001b[38;5;28mself\u001b[39m\u001b[38;5;241m.\u001b[39mnum_run \u001b[38;5;241m+\u001b[39m\u001b[38;5;241m=\u001b[39m \u001b[38;5;241m1\u001b[39m\n\u001b[0;32m--> 765\u001b[0m     \u001b[38;5;28;43mself\u001b[39;49m\u001b[38;5;241;43m.\u001b[39;49m\u001b[43m_do_dummy_prediction\u001b[49m\u001b[43m(\u001b[49m\u001b[43m)\u001b[49m\n\u001b[1;32m    767\u001b[0m \u001b[38;5;66;03m# == RUN ensemble builder\u001b[39;00m\n\u001b[1;32m    768\u001b[0m \u001b[38;5;66;03m# Do this before calculating the meta-features to make sure that the\u001b[39;00m\n\u001b[1;32m    769\u001b[0m \u001b[38;5;66;03m# dummy predictions are actually included in the ensemble even if\u001b[39;00m\n\u001b[1;32m    770\u001b[0m \u001b[38;5;66;03m# calculating the meta-features takes very long\u001b[39;00m\n\u001b[1;32m    771\u001b[0m \u001b[38;5;28;01mwith\u001b[39;00m \u001b[38;5;28mself\u001b[39m\u001b[38;5;241m.\u001b[39m_stopwatch\u001b[38;5;241m.\u001b[39mtime(\u001b[38;5;124m\"\u001b[39m\u001b[38;5;124mRun Ensemble Builder\u001b[39m\u001b[38;5;124m\"\u001b[39m):\n",
      "File \u001b[0;32m/opt/anaconda3/envs/Autosklearn/lib/python3.8/site-packages/autosklearn/automl.py:489\u001b[0m, in \u001b[0;36mAutoML._do_dummy_prediction\u001b[0;34m(self)\u001b[0m\n\u001b[1;32m    483\u001b[0m         msg \u001b[38;5;241m=\u001b[39m (\n\u001b[1;32m    484\u001b[0m             \u001b[38;5;124mf\u001b[39m\u001b[38;5;124m\"\u001b[39m\u001b[38;5;124m Dummy prediction failed with run state \u001b[39m\u001b[38;5;132;01m{\u001b[39;00mstatus\u001b[38;5;132;01m}\u001b[39;00m\u001b[38;5;124m and\u001b[39m\u001b[38;5;124m\"\u001b[39m\n\u001b[1;32m    485\u001b[0m             \u001b[38;5;124mf\u001b[39m\u001b[38;5;124m\"\u001b[39m\u001b[38;5;124m additional output: \u001b[39m\u001b[38;5;132;01m{\u001b[39;00madditional_info\u001b[38;5;132;01m}\u001b[39;00m\u001b[38;5;124m.\u001b[39m\u001b[38;5;124m\"\u001b[39m,\n\u001b[1;32m    486\u001b[0m         )\n\u001b[1;32m    488\u001b[0m     \u001b[38;5;28mself\u001b[39m\u001b[38;5;241m.\u001b[39m_logger\u001b[38;5;241m.\u001b[39merror(msg)\n\u001b[0;32m--> 489\u001b[0m     \u001b[38;5;28;01mraise\u001b[39;00m \u001b[38;5;167;01mValueError\u001b[39;00m(msg)\n\u001b[1;32m    491\u001b[0m \u001b[38;5;28;01mreturn\u001b[39;00m\n",
      "\u001b[0;31mValueError\u001b[0m: (' Dummy prediction failed with run state StatusType.CRASHED and additional output: {\\'error\\': \\'Result queue is empty\\', \\'exit_status\\': \"<class \\'pynisher.limit_function_call.AnythingException\\'>\", \\'subprocess_stdout\\': \\'\\', \\'subprocess_stderr\\': \\'Process pynisher function call:\\\\nTraceback (most recent call last):\\\\n  File \"/opt/anaconda3/envs/Autosklearn/lib/python3.8/multiprocessing/process.py\", line 315, in _bootstrap\\\\n    self.run()\\\\n  File \"/opt/anaconda3/envs/Autosklearn/lib/python3.8/multiprocessing/process.py\", line 108, in run\\\\n    self._target(*self._args, **self._kwargs)\\\\n  File \"/opt/anaconda3/envs/Autosklearn/lib/python3.8/site-packages/pynisher/limit_function_call.py\", line 108, in subprocess_func\\\\n    resource.setrlimit(resource.RLIMIT_AS, (mem_in_b, mem_in_b))\\\\nValueError: current limit exceeds maximum limit\\\\n\\', \\'exitcode\\': 1, \\'configuration_origin\\': \\'DUMMY\\'}.',)"
     ]
    }
   ],
   "source": [
    "clf.fit(X_train_resampled, y_train_resampled, X_test=X_test, y_test=y_test)"
   ]
  },
  {
   "cell_type": "code",
   "execution_count": null,
   "id": "00b4c8c2-1fb1-4dc4-b88c-735e09035334",
   "metadata": {},
   "outputs": [],
   "source": [
    "# === Predict ===\n",
    "y_pred = clf.predict(X_test)\n",
    "acc = accuracy_score(y_test, y_pred)\n",
    "cm = confusion_matrix(y_test, y_pred)"
   ]
  },
  {
   "cell_type": "code",
   "execution_count": null,
   "id": "499a8439-f19e-498a-9ecc-564491b2b310",
   "metadata": {},
   "outputs": [],
   "source": [
    "# === ROC Curve ===\n",
    "y_proba = clf.predict_proba(X_test)[:, 1]\n",
    "fpr, tpr, _ = roc_curve(y_test, y_proba)\n",
    "roc = auc(fpr, tpr)"
   ]
  },
  {
   "cell_type": "code",
   "execution_count": null,
   "id": "27bac42a-cad1-4844-9f68-cf10606aa5c7",
   "metadata": {},
   "outputs": [],
   "source": [
    "plt.figure(figsize=(6, 6))\n",
    "plt.plot(fpr, tpr, label=f'AUC = {roc:.2f}')\n",
    "plt.plot([0, 1], [0, 1], 'k--')\n",
    "plt.xlabel('False Positive Rate')\n",
    "plt.ylabel('True Positive Rate')\n",
    "plt.title('ROC Curve')\n",
    "plt.legend()\n",
    "plt.tight_layout()\n",
    "plt.savefig(\"BRCA_ROC_Curve.png\", dpi=600)\n",
    "plt.close()"
   ]
  },
  {
   "cell_type": "code",
   "execution_count": null,
   "id": "17760d70-98ea-48e5-b105-5b95e272df56",
   "metadata": {},
   "outputs": [],
   "source": [
    "# === Confusion Matrix Plot ===\n",
    "plt.figure(figsize=(4, 4))\n",
    "sns.heatmap(cm, annot=True, fmt='d', cmap='Blues', xticklabels=['Normal', 'Tumor'], yticklabels=['Normal', 'Tumor'])\n",
    "plt.xlabel('Predicted')\n",
    "plt.ylabel('Actual')\n",
    "plt.title('Confusion Matrix')\n",
    "plt.tight_layout()\n",
    "plt.savefig(\"BRCA_Confusion_Matrix.png\", dpi=600)\n",
    "plt.close()"
   ]
  },
  {
   "cell_type": "code",
   "execution_count": null,
   "id": "55995f10-0243-4228-9015-b278f765e215",
   "metadata": {},
   "outputs": [],
   "source": [
    "# === Metrics ===\n",
    "if cm.shape == (2, 2):\n",
    "    TN, FP, FN, TP = cm.ravel()\n",
    "    metrics = {\n",
    "        'Accuracy': acc,\n",
    "        'Predictive Value (Normal)': TN / (TN + FN) if (TN + FN) else 0,\n",
    "        'Predictive Value (Tumor)': TP / (TP + FP) if (TP + FP) else 0,\n",
    "        'Precision (Normal)': TN / (TN + FP) if (TN + FP) else 0,\n",
    "        'Precision (Tumor)': TP / (TP + FP) if (TP + FP) else 0,\n",
    "        'Recall (Normal)': TN / (TN + FN) if (TN + FN) else 0,\n",
    "        'Recall (Tumor)': TP / (TP + FN) if (TP + FN) else 0,\n",
    "        'F1 Score (Normal)': (2 * TN / (TN + FP) * TN / (TN + FN)) /\n",
    "                             (TN / (TN + FP) + TN / (TN + FN)) if (TN + FP + TN + FN) else 0,\n",
    "        'F1 Score (Tumor)': (2 * TP / (TP + FP) * TP / (TP + FN)) /\n",
    "                            (TP / (TP + FP) + TP / (TP + FN)) if (TP + FP + TP + FN) else 0,\n",
    "        'F1 Macro Average': (\n",
    "            ((2 * TN / (TN + FP) * TN / (TN + FN)) /\n",
    "             (TN / (TN + FP) + TN / (TN + FN)) +\n",
    "             (2 * TP / (TP + FP) * TP / (TP + FN)) /\n",
    "             (TP / (TP + FP) + TP / (TP + FN)))\n",
    "        ) / 2 if all([TN + FP + TN + FN, TP + FP + TP + FN]) else 0,\n",
    "        'Sensitivity': TP / (TP + FN) if (TP + FN) != 0 else 0,\n",
    "        'Specificity': TN / (TN + FP) if (TN + FP) != 0 else 0,\n",
    "        'ROC AUC': roc,\n",
    "    }\n",
    "else:\n",
    "    metrics = {'Error': 'Confusion matrix not 2x2 – check labels.'}"
   ]
  },
  {
   "cell_type": "code",
   "execution_count": null,
   "id": "ec4259cd-6ab6-43e7-a4fc-7cc0d25cbd74",
   "metadata": {},
   "outputs": [],
   "source": [
    "metrics_df = pd.DataFrame([metrics])\n",
    "metrics_df.to_excel(\"BRCA_AutoSklearn_Metrics.xlsx\", index=False)\n",
    "\n",
    "# === Save model ===\n",
    "joblib.dump(clf, \"BRCA_AutoSklearn_Model_SMOTE.joblib\")"
   ]
  }
 ],
 "metadata": {
  "kernelspec": {
   "display_name": "Python 3 (ipykernel)",
   "language": "python",
   "name": "python3"
  },
  "language_info": {
   "codemirror_mode": {
    "name": "ipython",
    "version": 3
   },
   "file_extension": ".py",
   "mimetype": "text/x-python",
   "name": "python",
   "nbconvert_exporter": "python",
   "pygments_lexer": "ipython3",
   "version": "3.8.20"
  }
 },
 "nbformat": 4,
 "nbformat_minor": 5
}
