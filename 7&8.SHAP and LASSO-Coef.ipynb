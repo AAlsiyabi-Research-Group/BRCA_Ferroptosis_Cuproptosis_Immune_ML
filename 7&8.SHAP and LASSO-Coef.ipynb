{
 "cells": [
  {
   "cell_type": "code",
   "execution_count": 1,
   "id": "0c80b705-e2b7-4807-bca8-263556df933b",
   "metadata": {},
   "outputs": [
    {
     "name": "stderr",
     "output_type": "stream",
     "text": [
      "/var/folders/_y/6vb8yd7921g_xvxstvhvv_r00000gn/T/ipykernel_61941/3236885493.py:18: FutureWarning: Downcasting behavior in `replace` is deprecated and will be removed in a future version. To retain the old behavior, explicitly call `result.infer_objects(copy=False)`. To opt-in to the future behavior, set `pd.set_option('future.no_silent_downcasting', True)`\n",
      "  y = meta.loc[X.index, 'sample_type'].replace({'Solid Tissue Normal': 0, 'Primary Tumor': 1}).values\n"
     ]
    }
   ],
   "source": [
    "import matplotlib.pyplot as plt\n",
    "import pandas as pd\n",
    "from sklearn.linear_model import LogisticRegressionCV\n",
    "from sklearn.preprocessing import StandardScaler\n",
    "import os\n",
    "\n",
    "# Setup output folder\n",
    "os.makedirs(\"BRCA_ML_Interpretability\", exist_ok=True)\n",
    "\n",
    "# Load data\n",
    "expr = pd.read_csv(\"BRCA_VST_Normalized_Matrix.csv\", index_col=0)\n",
    "meta = pd.read_csv(\"BRCA_Metadata_Final.csv\", index_col=0)\n",
    "genes = pd.read_excel(\"Common_Genes_BRCA.xlsx\", header=None).iloc[:, 0].str.upper().tolist()\n",
    "\n",
    "# Prepare data\n",
    "expr.index = expr.index.str.upper()\n",
    "X = expr.loc[genes].T\n",
    "y = meta.loc[X.index, 'sample_type'].replace({'Solid Tissue Normal': 0, 'Primary Tumor': 1}).values\n",
    "scaler = StandardScaler()\n",
    "X_scaled = scaler.fit_transform(X)\n",
    "\n",
    "# Train LASSO\n",
    "lasso = LogisticRegressionCV(penalty='l1', solver='liblinear', cv=5,\n",
    "                             class_weight='balanced', random_state=42, max_iter=1000)\n",
    "lasso.fit(X_scaled, y)\n",
    "\n",
    "# Extract coefficients\n",
    "coefs = lasso.coef_[0]\n",
    "coef_df = pd.DataFrame({'Gene': genes, 'Coefficient': coefs})\n",
    "coef_df = coef_df.sort_values(by='Coefficient', key=abs, ascending=False)\n",
    "coef_df.to_csv(\"BRCA_ML_Interpretability/LASSO_Coefficients.csv\", index=False)\n",
    "\n",
    "# Plot (high-res, serif, bold)\n",
    "plt.figure(figsize=(8, 6))\n",
    "plt.rcParams.update({'font.family': 'serif', 'font.weight': 'bold'})\n",
    "bars = plt.barh(coef_df['Gene'], coef_df['Coefficient'], color='teal')\n",
    "plt.axvline(0, linestyle='--', color='gray')\n",
    "plt.xlabel(\"Coefficient Weight\", fontsize=14, fontweight='bold')\n",
    "plt.title(\"LASSO Coefficients – BRCA 9-Gene Panel\", fontsize=15, fontweight='bold')\n",
    "plt.xticks(fontsize=12, fontweight='bold')\n",
    "plt.yticks(fontsize=12, fontweight='bold')\n",
    "plt.gca().invert_yaxis()\n",
    "plt.tight_layout()\n",
    "plt.savefig(\"BRCA_ML_Interpretability/LASSO_Coefficients_Plot_HighRes.png\", dpi=600)\n",
    "plt.close()"
   ]
  },
  {
   "cell_type": "code",
   "execution_count": 3,
   "id": "7c92ba84-33b0-4277-852f-75afe7297ec6",
   "metadata": {},
   "outputs": [
    {
     "name": "stderr",
     "output_type": "stream",
     "text": [
      "/opt/anaconda3/envs/LASSO/lib/python3.10/site-packages/tqdm/auto.py:21: TqdmWarning: IProgress not found. Please update jupyter and ipywidgets. See https://ipywidgets.readthedocs.io/en/stable/user_install.html\n",
      "  from .autonotebook import tqdm as notebook_tqdm\n",
      "/opt/anaconda3/envs/LASSO/lib/python3.10/site-packages/xgboost/training.py:183: UserWarning: [21:03:58] WARNING: /Users/runner/work/xgboost/xgboost/src/learner.cc:738: \n",
      "Parameters: { \"use_label_encoder\" } are not used.\n",
      "\n",
      "  bst.update(dtrain, iteration=i, fobj=obj)\n"
     ]
    }
   ],
   "source": [
    "import shap\n",
    "import xgboost as xgb\n",
    "import numpy as np\n",
    "import matplotlib.pyplot as plt\n",
    "\n",
    "# Train XGB model\n",
    "model = xgb.XGBClassifier(use_label_encoder=False, eval_metric='logloss', random_state=42)\n",
    "model.fit(X_scaled, y)\n",
    "\n",
    "# SHAP Explainer\n",
    "explainer = shap.Explainer(model)\n",
    "shap_values = explainer(X_scaled)\n",
    "\n",
    "# Save SHAP values\n",
    "shap_df = pd.DataFrame(shap_values.values, columns=genes)\n",
    "shap_df.to_csv(\"BRCA_ML_Interpretability/XGB_SHAP_Values.csv\", index=False)\n",
    "\n",
    "# SHAP Global Bar Plot\n",
    "plt.rcParams.update({'font.family': 'serif', 'font.weight': 'bold'})\n",
    "shap.plots.bar(shap_values, max_display=9, show=False)\n",
    "plt.tight_layout()\n",
    "plt.savefig(\"BRCA_ML_Interpretability/XGB_SHAP_BarPlot_HighRes.png\", dpi=600)\n",
    "plt.close()\n",
    "\n",
    "# SHAP Beeswarm Plot\n",
    "shap.plots.beeswarm(shap_values, max_display=9, show=False)\n",
    "plt.tight_layout()\n",
    "plt.savefig(\"BRCA_ML_Interpretability/XGB_SHAP_Beeswarm_HighRes.png\", dpi=600)\n",
    "plt.close()\n",
    "\n",
    "# SHAP Waterfall Plot (first sample)\n",
    "shap.plots.waterfall(shap_values[0], show=False)\n",
    "plt.tight_layout()\n",
    "plt.savefig(\"BRCA_ML_Interpretability/XGB_SHAP_Waterfall_Sample0_HighRes.png\", dpi=600)\n",
    "plt.close()"
   ]
  },
  {
   "cell_type": "code",
   "execution_count": null,
   "id": "ea1e4def-0ae2-48f9-874c-c39dcc557388",
   "metadata": {},
   "outputs": [],
   "source": []
  }
 ],
 "metadata": {
  "kernelspec": {
   "display_name": "Python 3 (ipykernel)",
   "language": "python",
   "name": "python3"
  },
  "language_info": {
   "codemirror_mode": {
    "name": "ipython",
    "version": 3
   },
   "file_extension": ".py",
   "mimetype": "text/x-python",
   "name": "python",
   "nbconvert_exporter": "python",
   "pygments_lexer": "ipython3",
   "version": "3.10.18"
  }
 },
 "nbformat": 4,
 "nbformat_minor": 5
}
